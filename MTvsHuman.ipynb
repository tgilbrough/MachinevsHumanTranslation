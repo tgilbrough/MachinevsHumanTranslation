{
 "cells": [
  {
   "cell_type": "code",
   "execution_count": 1,
   "metadata": {
    "collapsed": false
   },
   "outputs": [],
   "source": [
    "import pandas as pd\n",
    "import matplotlib.pyplot as plt\n",
    "import numpy as np\n",
    "import sys\n",
    "import nltk\n",
    "from sklearn import metrics\n",
    "import util\n",
    "from featurize import add_features\n",
    "\n",
    "%matplotlib inline"
   ]
  },
  {
   "cell_type": "markdown",
   "metadata": {},
   "source": [
    "# Gather and Manipulate Data"
   ]
  },
  {
   "cell_type": "code",
   "execution_count": 2,
   "metadata": {
    "collapsed": false
   },
   "outputs": [],
   "source": [
    "lines = util.parse_training_data()\n",
    "for line in lines:\n",
    "    line = add_features(line)"
   ]
  },
  {
   "cell_type": "code",
   "execution_count": 3,
   "metadata": {
    "collapsed": false
   },
   "outputs": [],
   "source": [
    "df = pd.DataFrame.from_dict(lines)"
   ]
  },
  {
   "cell_type": "code",
   "execution_count": 4,
   "metadata": {
    "collapsed": false
   },
   "outputs": [
    {
     "data": {
      "text/plain": [
       "(758, 12)"
      ]
     },
     "execution_count": 4,
     "metadata": {},
     "output_type": "execute_result"
    }
   ],
   "source": [
    "df.shape"
   ]
  },
  {
   "cell_type": "markdown",
   "metadata": {},
   "source": [
    "### Removing columns not used in classifier"
   ]
  },
  {
   "cell_type": "code",
   "execution_count": 5,
   "metadata": {
    "collapsed": false
   },
   "outputs": [],
   "source": [
    "del df[\"?\"]\n",
    "del df[\"chinese\"]\n",
    "del df[\"human\"]\n",
    "del df[\"h_tree\"]\n",
    "del df[\"q_tree\"]"
   ]
  },
  {
   "cell_type": "markdown",
   "metadata": {},
   "source": [
    "### Converting labels to numbers"
   ]
  },
  {
   "cell_type": "code",
   "execution_count": 6,
   "metadata": {
    "collapsed": true
   },
   "outputs": [],
   "source": [
    "label_map = {\"H\" : 0, \"M\" : 1}\n",
    "df[\"label\"] = df[\"label\"].map(label_map)"
   ]
  },
  {
   "cell_type": "code",
   "execution_count": 7,
   "metadata": {
    "collapsed": false
   },
   "outputs": [
    {
     "data": {
      "text/html": [
       "<div>\n",
       "<table border=\"1\" class=\"dataframe\">\n",
       "  <thead>\n",
       "    <tr style=\"text-align: right;\">\n",
       "      <th></th>\n",
       "      <th>bleu</th>\n",
       "      <th>chrf</th>\n",
       "      <th>gleu</th>\n",
       "      <th>human_to_trans_len_ratio</th>\n",
       "      <th>label</th>\n",
       "      <th>original_to_trans_len_ratio</th>\n",
       "      <th>tree_height_ratio</th>\n",
       "    </tr>\n",
       "  </thead>\n",
       "  <tbody>\n",
       "    <tr>\n",
       "      <th>0</th>\n",
       "      <td>0.3125</td>\n",
       "      <td>0.577535</td>\n",
       "      <td>0.173913</td>\n",
       "      <td>0.903614</td>\n",
       "      <td>0</td>\n",
       "      <td>0.373494</td>\n",
       "      <td>1.714286</td>\n",
       "    </tr>\n",
       "    <tr>\n",
       "      <th>1</th>\n",
       "      <td>0.6531</td>\n",
       "      <td>0.756146</td>\n",
       "      <td>0.427711</td>\n",
       "      <td>0.932271</td>\n",
       "      <td>0</td>\n",
       "      <td>0.513944</td>\n",
       "      <td>1.071429</td>\n",
       "    </tr>\n",
       "    <tr>\n",
       "      <th>2</th>\n",
       "      <td>0.3784</td>\n",
       "      <td>0.436345</td>\n",
       "      <td>0.112676</td>\n",
       "      <td>1.081967</td>\n",
       "      <td>1</td>\n",
       "      <td>0.606557</td>\n",
       "      <td>1.000000</td>\n",
       "    </tr>\n",
       "    <tr>\n",
       "      <th>3</th>\n",
       "      <td>0.3646</td>\n",
       "      <td>0.424499</td>\n",
       "      <td>0.171233</td>\n",
       "      <td>1.264368</td>\n",
       "      <td>1</td>\n",
       "      <td>0.609195</td>\n",
       "      <td>1.800000</td>\n",
       "    </tr>\n",
       "    <tr>\n",
       "      <th>4</th>\n",
       "      <td>0.7778</td>\n",
       "      <td>0.850340</td>\n",
       "      <td>0.409091</td>\n",
       "      <td>0.898876</td>\n",
       "      <td>0</td>\n",
       "      <td>0.539326</td>\n",
       "      <td>0.916667</td>\n",
       "    </tr>\n",
       "    <tr>\n",
       "      <th>5</th>\n",
       "      <td>0.7368</td>\n",
       "      <td>0.633663</td>\n",
       "      <td>0.371429</td>\n",
       "      <td>1.050505</td>\n",
       "      <td>0</td>\n",
       "      <td>0.606061</td>\n",
       "      <td>1.444444</td>\n",
       "    </tr>\n",
       "    <tr>\n",
       "      <th>6</th>\n",
       "      <td>0.6364</td>\n",
       "      <td>0.703791</td>\n",
       "      <td>0.358824</td>\n",
       "      <td>0.857143</td>\n",
       "      <td>0</td>\n",
       "      <td>0.444898</td>\n",
       "      <td>1.000000</td>\n",
       "    </tr>\n",
       "    <tr>\n",
       "      <th>7</th>\n",
       "      <td>0.6000</td>\n",
       "      <td>0.792161</td>\n",
       "      <td>0.395604</td>\n",
       "      <td>0.803213</td>\n",
       "      <td>0</td>\n",
       "      <td>0.449799</td>\n",
       "      <td>0.928571</td>\n",
       "    </tr>\n",
       "    <tr>\n",
       "      <th>8</th>\n",
       "      <td>0.5273</td>\n",
       "      <td>0.640663</td>\n",
       "      <td>0.247706</td>\n",
       "      <td>0.803333</td>\n",
       "      <td>0</td>\n",
       "      <td>0.456667</td>\n",
       "      <td>1.230769</td>\n",
       "    </tr>\n",
       "    <tr>\n",
       "      <th>9</th>\n",
       "      <td>0.5128</td>\n",
       "      <td>0.643032</td>\n",
       "      <td>0.280000</td>\n",
       "      <td>0.953704</td>\n",
       "      <td>0</td>\n",
       "      <td>0.449074</td>\n",
       "      <td>1.352941</td>\n",
       "    </tr>\n",
       "  </tbody>\n",
       "</table>\n",
       "</div>"
      ],
      "text/plain": [
       "     bleu      chrf      gleu  human_to_trans_len_ratio  label  \\\n",
       "0  0.3125  0.577535  0.173913                  0.903614      0   \n",
       "1  0.6531  0.756146  0.427711                  0.932271      0   \n",
       "2  0.3784  0.436345  0.112676                  1.081967      1   \n",
       "3  0.3646  0.424499  0.171233                  1.264368      1   \n",
       "4  0.7778  0.850340  0.409091                  0.898876      0   \n",
       "5  0.7368  0.633663  0.371429                  1.050505      0   \n",
       "6  0.6364  0.703791  0.358824                  0.857143      0   \n",
       "7  0.6000  0.792161  0.395604                  0.803213      0   \n",
       "8  0.5273  0.640663  0.247706                  0.803333      0   \n",
       "9  0.5128  0.643032  0.280000                  0.953704      0   \n",
       "\n",
       "   original_to_trans_len_ratio  tree_height_ratio  \n",
       "0                     0.373494           1.714286  \n",
       "1                     0.513944           1.071429  \n",
       "2                     0.606557           1.000000  \n",
       "3                     0.609195           1.800000  \n",
       "4                     0.539326           0.916667  \n",
       "5                     0.606061           1.444444  \n",
       "6                     0.444898           1.000000  \n",
       "7                     0.449799           0.928571  \n",
       "8                     0.456667           1.230769  \n",
       "9                     0.449074           1.352941  "
      ]
     },
     "execution_count": 7,
     "metadata": {},
     "output_type": "execute_result"
    }
   ],
   "source": [
    "df.head(10)"
   ]
  },
  {
   "cell_type": "code",
   "execution_count": 8,
   "metadata": {
    "collapsed": false,
    "scrolled": true
   },
   "outputs": [
    {
     "name": "stdout",
     "output_type": "stream",
     "text": [
      "Number of Machine Translations: 354 (46.70%)\n",
      "Number of Human Translations: 404 (53.30%)\n"
     ]
    }
   ],
   "source": [
    "# Make sure balanced results\n",
    "num_true = len(df.loc[df[\"label\"] == 1])\n",
    "num_false = len(df.loc[df[\"label\"] == 0])\n",
    "print(\"Number of Machine Translations: {0} ({1:2.2f}%)\".format(num_true, (num_true / (num_true + num_false)) * 100.0))\n",
    "print(\"Number of Human Translations: {0} ({1:2.2f}%)\".format(num_false, (num_false / (num_true + num_false)) * 100.0))"
   ]
  },
  {
   "cell_type": "markdown",
   "metadata": {},
   "source": [
    "## Correlation Matrix"
   ]
  },
  {
   "cell_type": "code",
   "execution_count": 27,
   "metadata": {
    "collapsed": false,
    "scrolled": true
   },
   "outputs": [
    {
     "data": {
      "image/png": "[encoded data removed]",
      "text/plain": [
       "<matplotlib.figure.Figure at 0x1870b6fc160>"
      ]
     },
     "metadata": {},
     "output_type": "display_data"
    }
   ],
   "source": [
    "size = 15\n",
    "corr = df.corr() # data frame correlation function\n",
    "fig, ax = plt.subplots(figsize=(size, size))\n",
    "cax = ax.matshow(corr, cmap='Blues') # color code the rectangles by correlation value\n",
    "fig.colorbar(cax)\n",
    "plt.xticks(range(len(corr.columns)), corr.columns) # draw x tick marks\n",
    "plt.yticks(range(len(corr.columns)), corr.columns) # draw y tick marks\n",
    "# plt.savefig('corr_matrix.png')\n",
    "plt.show()"
   ]
  },
  {
   "cell_type": "markdown",
   "metadata": {},
   "source": [
    "### Dropping unwanted features"
   ]
  },
  {
   "cell_type": "code",
   "execution_count": 10,
   "metadata": {
    "collapsed": false
   },
   "outputs": [],
   "source": [
    "del df[\"bleu\"]"
   ]
  },
  {
   "cell_type": "markdown",
   "metadata": {},
   "source": [
    "### Spliting the data\n",
    "80% for training, 20% for testing"
   ]
  },
  {
   "cell_type": "code",
   "execution_count": 11,
   "metadata": {
    "collapsed": false
   },
   "outputs": [],
   "source": [
    "from sklearn.cross_validation import train_test_split\n",
    "\n",
    "feature_col_names = list(df.columns.values)\n",
    "feature_col_names.remove('label')\n",
    "\n",
    "predicted_class_names = ['label']"
   ]
  },
  {
   "cell_type": "code",
   "execution_count": 12,
   "metadata": {
    "collapsed": true
   },
   "outputs": [],
   "source": [
    "X = df[feature_col_names].values\n",
    "y = df[predicted_class_names].values\n",
    "split_test_size = 0.20\n",
    "\n",
    "# Split the data into train and test data\n",
    "X_train, X_test, y_train, y_test = train_test_split(X, y, test_size = split_test_size, random_state = 42)"
   ]
  },
  {
   "cell_type": "markdown",
   "metadata": {},
   "source": [
    "## Support Vector Machine"
   ]
  },
  {
   "cell_type": "code",
   "execution_count": 13,
   "metadata": {
    "collapsed": false
   },
   "outputs": [
    {
     "data": {
      "text/plain": [
       "SVC(C=1.0, cache_size=200, class_weight=None, coef0=0.0,\n",
       "  decision_function_shape=None, degree=3, gamma='auto', kernel='rbf',\n",
       "  max_iter=-1, probability=False, random_state=None, shrinking=True,\n",
       "  tol=0.001, verbose=False)"
      ]
     },
     "execution_count": 13,
     "metadata": {},
     "output_type": "execute_result"
    }
   ],
   "source": [
    "from sklearn.svm import SVC\n",
    "\n",
    "svc_model = SVC()\n",
    "\n",
    "svc_model.fit(X_train, y_train.ravel())"
   ]
  },
  {
   "cell_type": "markdown",
   "metadata": {},
   "source": [
    "### Performance on Training Data"
   ]
  },
  {
   "cell_type": "code",
   "execution_count": 14,
   "metadata": {
    "collapsed": false
   },
   "outputs": [
    {
     "name": "stdout",
     "output_type": "stream",
     "text": [
      "Accurary: 0.7706\n"
     ]
    }
   ],
   "source": [
    "# predict values using the training data\n",
    "svc_predict_train = svc_model.predict(X_train)\n",
    "\n",
    "print(\"Accurary: {0:.4f}\".format(metrics.accuracy_score(y_train, svc_predict_train)))"
   ]
  },
  {
   "cell_type": "markdown",
   "metadata": {},
   "source": [
    "### Performance on Testing Data"
   ]
  },
  {
   "cell_type": "code",
   "execution_count": 15,
   "metadata": {
    "collapsed": false
   },
   "outputs": [
    {
     "name": "stdout",
     "output_type": "stream",
     "text": [
      "Accuracy: 0.7895\n"
     ]
    }
   ],
   "source": [
    "svc_predict_test = svc_model.predict(X_test)\n",
    "\n",
    "print(\"Accuracy: {0:.4f}\".format(metrics.accuracy_score(y_test, svc_predict_test)))"
   ]
  },
  {
   "cell_type": "markdown",
   "metadata": {},
   "source": [
    "#### Metrics"
   ]
  },
  {
   "cell_type": "code",
   "execution_count": 16,
   "metadata": {
    "collapsed": false
   },
   "outputs": [
    {
     "name": "stdout",
     "output_type": "stream",
     "text": [
      "Confussion Matrix\n",
      "[[53 18]\n",
      " [14 67]]\n",
      "\n",
      "Classification Report\n",
      "             precision    recall  f1-score   support\n",
      "\n",
      "          1       0.79      0.75      0.77        71\n",
      "          0       0.79      0.83      0.81        81\n",
      "\n",
      "avg / total       0.79      0.79      0.79       152\n",
      "\n"
     ]
    }
   ],
   "source": [
    "print(\"Confussion Matrix\")\n",
    "\n",
    "print(\"{0}\".format(metrics.confusion_matrix(y_test, svc_predict_test, labels=[1, 0])))\n",
    "print()\n",
    "\n",
    "print(\"Classification Report\")\n",
    "print(metrics.classification_report(y_test, svc_predict_test, labels=[1,0]))"
   ]
  },
  {
   "cell_type": "markdown",
   "metadata": {},
   "source": [
    "## Naive Bayes"
   ]
  },
  {
   "cell_type": "code",
   "execution_count": 17,
   "metadata": {
    "collapsed": false
   },
   "outputs": [
    {
     "data": {
      "text/plain": [
       "GaussianNB()"
      ]
     },
     "execution_count": 17,
     "metadata": {},
     "output_type": "execute_result"
    }
   ],
   "source": [
    "from sklearn.naive_bayes import GaussianNB\n",
    "\n",
    "# create Gaussian Naive Bayes model object and train it with the data\n",
    "nb_model = GaussianNB()\n",
    "\n",
    "nb_model.fit(X_train, y_train.ravel())"
   ]
  },
  {
   "cell_type": "markdown",
   "metadata": {},
   "source": [
    "### Performance on Training Data"
   ]
  },
  {
   "cell_type": "code",
   "execution_count": 18,
   "metadata": {
    "collapsed": false
   },
   "outputs": [
    {
     "name": "stdout",
     "output_type": "stream",
     "text": [
      "Accurary: 0.7805\n"
     ]
    }
   ],
   "source": [
    "# predict values using the training data\n",
    "nb_predict_train = nb_model.predict(X_train)\n",
    "\n",
    "print(\"Accurary: {0:.4f}\".format(metrics.accuracy_score(y_train, nb_predict_train)))"
   ]
  },
  {
   "cell_type": "markdown",
   "metadata": {},
   "source": [
    "### Performance on Testing Data"
   ]
  },
  {
   "cell_type": "code",
   "execution_count": 19,
   "metadata": {
    "collapsed": false
   },
   "outputs": [
    {
     "name": "stdout",
     "output_type": "stream",
     "text": [
      "Accurary: 0.7961\n"
     ]
    }
   ],
   "source": [
    "# predict values using the testing data\n",
    "nb_predict_test = nb_model.predict(X_test)\n",
    "\n",
    "print(\"Accurary: {0:.4f}\".format(metrics.accuracy_score(y_test, nb_predict_test)))"
   ]
  },
  {
   "cell_type": "markdown",
   "metadata": {},
   "source": [
    "#### Metrics"
   ]
  },
  {
   "cell_type": "code",
   "execution_count": 20,
   "metadata": {
    "collapsed": false
   },
   "outputs": [
    {
     "name": "stdout",
     "output_type": "stream",
     "text": [
      "Confussion Matrix\n",
      "[[55 16]\n",
      " [15 66]]\n",
      "\n",
      "Classification Report\n",
      "             precision    recall  f1-score   support\n",
      "\n",
      "          1       0.79      0.77      0.78        71\n",
      "          0       0.80      0.81      0.81        81\n",
      "\n",
      "avg / total       0.80      0.80      0.80       152\n",
      "\n"
     ]
    }
   ],
   "source": [
    "print(\"Confussion Matrix\")\n",
    "\n",
    "# Note the use of label for set 1=True to upper left and 0=False to lower right\n",
    "print(\"{0}\".format(metrics.confusion_matrix(y_test, nb_predict_test, labels=[1, 0])))\n",
    "print()\n",
    "\n",
    "print(\"Classification Report\")\n",
    "print(metrics.classification_report(y_test, nb_predict_test, labels=[1, 0]))"
   ]
  },
  {
   "cell_type": "markdown",
   "metadata": {},
   "source": [
    "## Random Forest Classifier"
   ]
  },
  {
   "cell_type": "code",
   "execution_count": 21,
   "metadata": {
    "collapsed": false
   },
   "outputs": [
    {
     "data": {
      "text/plain": [
       "RandomForestClassifier(bootstrap=True, class_weight=None, criterion='gini',\n",
       "            max_depth=None, max_features='auto', max_leaf_nodes=None,\n",
       "            min_samples_leaf=1, min_samples_split=2,\n",
       "            min_weight_fraction_leaf=0.0, n_estimators=10, n_jobs=1,\n",
       "            oob_score=False, random_state=None, verbose=0,\n",
       "            warm_start=False)"
      ]
     },
     "execution_count": 21,
     "metadata": {},
     "output_type": "execute_result"
    }
   ],
   "source": [
    "from sklearn.ensemble import RandomForestClassifier\n",
    "\n",
    "rf_model = RandomForestClassifier(n_estimators=10)\n",
    "\n",
    "rf_model.fit(X_train, y_train.ravel())"
   ]
  },
  {
   "cell_type": "markdown",
   "metadata": {},
   "source": [
    "### Performance on Training Data"
   ]
  },
  {
   "cell_type": "code",
   "execution_count": 22,
   "metadata": {
    "collapsed": false
   },
   "outputs": [
    {
     "name": "stdout",
     "output_type": "stream",
     "text": [
      "Accurary: 0.9818\n"
     ]
    }
   ],
   "source": [
    "# predict values using the training data\n",
    "rf_predict_train = rf_model.predict(X_train)\n",
    "\n",
    "print(\"Accurary: {0:.4f}\".format(metrics.accuracy_score(y_train, rf_predict_train)))"
   ]
  },
  {
   "cell_type": "markdown",
   "metadata": {},
   "source": [
    "### Performance on Testing Data"
   ]
  },
  {
   "cell_type": "code",
   "execution_count": 23,
   "metadata": {
    "collapsed": false
   },
   "outputs": [
    {
     "name": "stdout",
     "output_type": "stream",
     "text": [
      "Accurary: 0.7829\n"
     ]
    }
   ],
   "source": [
    "# predict values using the testing data\n",
    "rf_predict_test = rf_model.predict(X_test)\n",
    "\n",
    "print(\"Accurary: {0:.4f}\".format(metrics.accuracy_score(y_test, rf_predict_test)))"
   ]
  },
  {
   "cell_type": "markdown",
   "metadata": {},
   "source": [
    "#### Metrics"
   ]
  },
  {
   "cell_type": "code",
   "execution_count": 24,
   "metadata": {
    "collapsed": false,
    "scrolled": true
   },
   "outputs": [
    {
     "name": "stdout",
     "output_type": "stream",
     "text": [
      "Confussion Matrix\n",
      "[[50 21]\n",
      " [12 69]]\n",
      "\n",
      "Classification Report\n",
      "             precision    recall  f1-score   support\n",
      "\n",
      "          1       0.81      0.70      0.75        71\n",
      "          0       0.77      0.85      0.81        81\n",
      "\n",
      "avg / total       0.79      0.78      0.78       152\n",
      "\n"
     ]
    }
   ],
   "source": [
    "print(\"Confussion Matrix\")\n",
    "\n",
    "# Note the use of label for set 1=True to upper left and 0=False to lower right\n",
    "print(\"{0}\".format(metrics.confusion_matrix(y_test, rf_predict_test, labels=[1, 0])))\n",
    "print()\n",
    "\n",
    "print(\"Classification Report\")\n",
    "print(metrics.classification_report(y_test, rf_predict_test, labels=[1, 0]))"
   ]
  }
 ],
 "metadata": {
  "anaconda-cloud": {},
  "kernelspec": {
   "display_name": "Python [conda root]",
   "language": "python",
   "name": "conda-root-py"
  },
  "language_info": {
   "codemirror_mode": {
    "name": "ipython",
    "version": 3
   },
   "file_extension": ".py",
   "mimetype": "text/x-python",
   "name": "python",
   "nbconvert_exporter": "python",
   "pygments_lexer": "ipython3",
   "version": "3.5.2"
  }
 },
 "nbformat": 4,
 "nbformat_minor": 1
}
